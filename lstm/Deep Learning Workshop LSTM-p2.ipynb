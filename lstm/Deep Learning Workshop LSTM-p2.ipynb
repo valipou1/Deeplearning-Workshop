{
  "nbformat": 4,
  "nbformat_minor": 0,
  "metadata": {
    "colab": {
      "name": "Copy of Deep Learning Workshop-LSTM-p2.ipynb",
      "version": "0.3.2",
      "provenance": [],
      "collapsed_sections": []
    },
    "kernelspec": {
      "name": "python2",
      "display_name": "Python 2"
    }
  },
  "cells": [
    {
      "cell_type": "markdown",
      "metadata": {
        "id": "zPzAZxkPj_Ft",
        "colab_type": "text"
      },
      "source": [
        "# LSTM Code Tutorial - Part 2"
      ]
    },
    {
      "cell_type": "markdown",
      "metadata": {
        "id": "1RGMOcAhssjO",
        "colab_type": "text"
      },
      "source": [
        "**This notebook illulstrates a tutorial on lstm using keras as sourced from keras's original documentation ([keras](https://keras.io))**"
      ]
    },
    {
      "cell_type": "markdown",
      "metadata": {
        "id": "EOLl6zbDk-gd",
        "colab_type": "text"
      },
      "source": [
        "## Setup"
      ]
    },
    {
      "cell_type": "markdown",
      "metadata": {
        "id": "8nC5Ef5xlCy8",
        "colab_type": "text"
      },
      "source": [
        "First we will import all modules that will be used in this tutorial"
      ]
    },
    {
      "cell_type": "code",
      "metadata": {
        "id": "z9-Pj6iwWZuk",
        "colab_type": "code",
        "colab": {}
      },
      "source": [
        "from __future__ import print_function\n",
        "\n",
        "import keras\n",
        "from keras.datasets import mnist\n",
        "from keras.models import Model\n",
        "from keras.layers import Input, Dense, TimeDistributed\n",
        "from keras.layers import LSTM\n",
        "\n"
      ],
      "execution_count": 0,
      "outputs": []
    },
    {
      "cell_type": "markdown",
      "metadata": {
        "id": "QXQfmf3xkOMt",
        "colab_type": "text"
      },
      "source": [
        "## Image classification using LSTM"
      ]
    },
    {
      "cell_type": "code",
      "metadata": {
        "id": "_T9ZqFm0iy19",
        "colab_type": "code",
        "colab": {}
      },
      "source": [
        "# Training parameters.\n",
        "batch_size = 32\n",
        "num_classes = 10\n",
        "epochs = 5\n",
        "\n",
        "# Embedding dimensions.\n",
        "row_hidden = 128\n",
        "col_hidden = 128\n"
      ],
      "execution_count": 0,
      "outputs": []
    },
    {
      "cell_type": "code",
      "metadata": {
        "id": "GTMBM88onlFI",
        "colab_type": "code",
        "colab": {}
      },
      "source": [
        "# The data, split between train and test sets.\n",
        "(x_train, y_train), (x_test, y_test) = mnist.load_data()"
      ],
      "execution_count": 0,
      "outputs": []
    },
    {
      "cell_type": "code",
      "metadata": {
        "id": "22oPotZ4nutX",
        "colab_type": "code",
        "colab": {}
      },
      "source": [
        "# Reshapes data to 4D for Hierarchical RNN.\n",
        "x_train = x_train.reshape(x_train.shape[0], 28, 28, 1)\n",
        "x_test = x_test.reshape(x_test.shape[0], 28, 28, 1)\n",
        "x_train = x_train.astype('float32')\n",
        "x_test = x_test.astype('float32')\n",
        "x_train /= 255\n",
        "x_test /= 255\n",
        "print('x_train shape:', x_train.shape)\n",
        "print(x_train.shape[0], 'train samples')\n",
        "print(x_test.shape[0], 'test samples')\n",
        "\n",
        "# Converts class vectors to binary class matrices.\n",
        "y_train = keras.utils.to_categorical(y_train, num_classes)\n",
        "y_test = keras.utils.to_categorical(y_test, num_classes)\n",
        "\n",
        "row, col, pixel = x_train.shape[1:]"
      ],
      "execution_count": 0,
      "outputs": []
    },
    {
      "cell_type": "code",
      "metadata": {
        "id": "qtXjV7TRnz4h",
        "colab_type": "code",
        "colab": {}
      },
      "source": [
        "# 4D input.\n",
        "x = Input(shape=(row, col, pixel))\n",
        "\n",
        "# Encodes a row of pixels using TimeDistributed Wrapper.\n",
        "encoded_rows = TimeDistributed(LSTM(row_hidden))(x)\n",
        "\n",
        "# Encodes columns of encoded rows.\n",
        "encoded_columns = LSTM(col_hidden)(encoded_rows)\n",
        "\n",
        "# Final predictions and model.\n",
        "prediction = Dense(num_classes, activation='softmax')(encoded_columns)\n",
        "model = Model(x, prediction)\n",
        "model.compile(loss='categorical_crossentropy',\n",
        "              optimizer='rmsprop',\n",
        "              metrics=['accuracy'])"
      ],
      "execution_count": 0,
      "outputs": []
    },
    {
      "cell_type": "markdown",
      "metadata": {
        "id": "gJ7EDjY0n_8k",
        "colab_type": "text"
      },
      "source": [
        "The architecture of our Model looks like the following:\n",
        "![alt text](https://raw.githubusercontent.com/adelacru33/Deeplearning-Workshop/master/lstm/figures/LSTM-MNIST.png?raw=True)\n",
        "\n",
        "The time distrubuted wrapper applies an LSTM to each row of the input producing 28 vectors of 128 dimensions (28x128 matrix). The time distributed wrapper is followed-up by another LSTM that outputs a 128 dimension vector. The vector then goes to a fully-connected softmax classification layer, outputing a vector of size 10.\n",
        "\n"
      ]
    },
    {
      "cell_type": "code",
      "metadata": {
        "id": "-BkMQmMjn7CS",
        "colab_type": "code",
        "colab": {}
      },
      "source": [
        "# Training.\n",
        "model.fit(x_train, y_train,\n",
        "          batch_size=batch_size,\n",
        "          epochs=epochs,\n",
        "          verbose=1,\n",
        "          validation_data=(x_test, y_test))\n",
        "\n"
      ],
      "execution_count": 0,
      "outputs": []
    },
    {
      "cell_type": "code",
      "metadata": {
        "id": "Bg_pzcRUn9og",
        "colab_type": "code",
        "colab": {}
      },
      "source": [
        "# Evaluation.\n",
        "scores = model.evaluate(x_test, y_test, verbose=0)\n",
        "print('Test loss:', scores[0])\n",
        "print('Test accuracy:', scores[1])"
      ],
      "execution_count": 0,
      "outputs": []
    }
  ]
}